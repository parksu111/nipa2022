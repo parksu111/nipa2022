{
 "cells": [
  {
   "attachments": {},
   "cell_type": "markdown",
   "metadata": {},
   "source": [
    "# Quadratic Weighted Kappa\n",
    "\n",
    "## Intro\n",
    "The quadratic weighted kappa measures the agreement between two outcomes. It is a metric useful for classification tasks in which the classes have a natural order.\n",
    "\n",
    "For a detailed explanation, check the following resources:\n",
    "* https://www.kaggle.com/code/carlolepelaars/understanding-the-metric-quadratic-weighted-kappa/notebook\n",
    "* https://en.wikipedia.org/wiki/Cohen%27s_kappa#Weighted_kappa"
   ]
  },
  {
   "attachments": {},
   "cell_type": "markdown",
   "metadata": {},
   "source": [
    "## Formula"
   ]
  },
  {
   "attachments": {},
   "cell_type": "markdown",
   "metadata": {},
   "source": [
    "The quadratic weighted kappa is calculated as:\n",
    "\n",
    "$\\kappa = 1 - \\frac{\\sum_{i,j}w_{i,j}O_{i,j}}{\\sum_{i,j}w_{i,j}E_{i,j}}$\n",
    "\n",
    "where,\n",
    "\n",
    "* $O$ is an N x N histogram matrix, such that $O_{i,j}$ corresponds to the number of points for which the actual value is $i$ and the predicted value is $j$.\n",
    "* $E$ is an N x N matrix of expected outcomes that is calculated assuming there is no correlation between values.\n",
    "    * $E$ is calculated as the outer product between the actual distribution histogram vector and the predicted distribution histogram vector.\n",
    "* $w$ is an N x N weight matrix which is calculated based on the difference between actual and predicted values.\n",
    "    * $w_{i,j} = \\frac{(i-j)^2}{(N-1)^2}$, $N$ = # of classes."
   ]
  },
  {
   "attachments": {},
   "cell_type": "markdown",
   "metadata": {},
   "source": [
    "## Python Implementation"
   ]
  },
  {
   "cell_type": "code",
   "execution_count": 1,
   "metadata": {},
   "outputs": [],
   "source": [
    "from sklearn.metrics import confusion_matrix, cohen_kappa_score"
   ]
  },
  {
   "cell_type": "code",
   "execution_count": 2,
   "metadata": {},
   "outputs": [],
   "source": [
    "# Function to calculate QWK\n",
    "def quadratic_weighted_kappa(c_matrix):\n",
    "    numer = 0.0\n",
    "    denom = 0.0\n",
    "\n",
    "    for i in range(c_matrix.shape[0]):\n",
    "        for j in range(c_matrix.shape[1]):\n",
    "            n = c_matrix.shape[0]\n",
    "            wij = ((i-j)**2.0)/((n-1)**2)\n",
    "            oij = c_matrix[i,j]\n",
    "            eij = c_matrix[i,:].sum() * c_matrix[:,j].sum() / c_matrix.sum()\n",
    "            numer += wij * oij\n",
    "            denom += wij * eij\n",
    "    return 1.0 - numer/denom"
   ]
  },
  {
   "cell_type": "code",
   "execution_count": 3,
   "metadata": {},
   "outputs": [],
   "source": [
    "# Example values\n",
    "y_true = [1,1,1,1,1,2,1,2,3,5,1,2,4]\n",
    "y_pred = [2,1,4,3,1,1,1,2,5,1,2,2,1]"
   ]
  },
  {
   "cell_type": "code",
   "execution_count": 4,
   "metadata": {},
   "outputs": [],
   "source": [
    "# Confusion matrix\n",
    "c_matrix = confusion_matrix(y_true, y_pred, labels=[1,2,3,4,5])"
   ]
  },
  {
   "cell_type": "code",
   "execution_count": 5,
   "metadata": {},
   "outputs": [
    {
     "name": "stdout",
     "output_type": "stream",
     "text": [
      "-0.09756097560975618\n"
     ]
    }
   ],
   "source": [
    "# Calculate QWK using implementation above\n",
    "kappa = quadratic_weighted_kappa(c_matrix)\n",
    "print(kappa)\n"
   ]
  },
  {
   "cell_type": "code",
   "execution_count": 6,
   "metadata": {},
   "outputs": [
    {
     "data": {
      "text/plain": [
       "-0.09756097560975618"
      ]
     },
     "execution_count": 6,
     "metadata": {},
     "output_type": "execute_result"
    }
   ],
   "source": [
    "# Calculate QWK using sklearn\n",
    "cohen_kappa_score(y_pred, y_true, weights='quadratic', labels=[1,2,3,4,5], sample_weight=None)"
   ]
  }
 ],
 "metadata": {
  "kernelspec": {
   "display_name": "skynet",
   "language": "python",
   "name": "python3"
  },
  "language_info": {
   "codemirror_mode": {
    "name": "ipython",
    "version": 3
   },
   "file_extension": ".py",
   "mimetype": "text/x-python",
   "name": "python",
   "nbconvert_exporter": "python",
   "pygments_lexer": "ipython3",
   "version": "3.10.9"
  },
  "orig_nbformat": 4,
  "vscode": {
   "interpreter": {
    "hash": "632363f47455271af9bc5758fc25351bf4fc6a287736ca2e1a1219bfc3d4a4f2"
   }
  }
 },
 "nbformat": 4,
 "nbformat_minor": 2
}
